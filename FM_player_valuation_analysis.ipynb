{
 "cells": [
  {
   "cell_type": "markdown",
   "metadata": {},
   "source": [
    "# Football Manager 2024 - Player Valuation Analysis\n",
    "\n",
    "An attempt to model player valuation based on their attributes to find undervalued attributes."
   ]
  },
  {
   "cell_type": "markdown",
   "metadata": {},
   "source": [
    "### Data Loading"
   ]
  },
  {
   "cell_type": "code",
   "execution_count": 38,
   "metadata": {},
   "outputs": [],
   "source": [
    "import pandas as pd\n",
    "import numpy as np\n",
    "import datetime as dt\n",
    "\n",
    "file = \"prem player export.rtf\"\n",
    "df = pd.read_csv(file, delimiter=\"|\")"
   ]
  },
  {
   "cell_type": "markdown",
   "metadata": {},
   "source": [
    "### Data Pre-Processing"
   ]
  },
  {
   "cell_type": "code",
   "execution_count": 39,
   "metadata": {},
   "outputs": [],
   "source": [
    "df = df.rename(columns=str.strip) #stripping column names\n",
    "df.dropna(subset=[\"Height\"], inplace=True)\n",
    "df.drop(columns=['Unnamed: 0'], inplace=True)\n",
    "\n",
    "# Strip spaces, and convert wage to a float\n",
    "df[\"Wage\"] = df[\"Wage\"].str.strip()\n",
    "df[\"Wage\"] = df[\"Wage\"].str.replace(\"£\", \"\", regex=True)\n",
    "df[\"Wage\"] = df[\"Wage\"].str.replace(\",\", \"\", regex=True)\n",
    "df[\"Wage\"] = df[\"Wage\"].str.replace(\" p/w\", \"\", regex=True)\n",
    "df[\"Wage\"] = df[\"Wage\"].astype(float)\n",
    "\n",
    "# Handling the string for transfer value and creating an average float value between min and max estimate.\n",
    "df[[\"Min Value\", \"Max Value\"]] = df[\"Transfer Value\"].str.split(\" - \", expand=True)\n",
    "df[\"Min Value\"] = df[\"Min Value\"].str.strip().str.replace(\"£\", \"\")\n",
    "df[\"Min Value\"] = df[\"Min Value\"].replace(\"Not for Sale\", np.nan)\n",
    "df[\"Max Value\"] = df[\"Max Value\"].str.strip().str.replace(\"£\", \"\")\n",
    "\n",
    "def convert_values(value):\n",
    "    if pd.isna(value):\n",
    "        return np.nan\n",
    "    elif \"M\" in value:\n",
    "        return float(value.replace(\"M\", \"\")) * 1000000\n",
    "    elif \"K\" in value:\n",
    "        return float(value.replace(\"K\", \"\")) * 1000\n",
    "    else:\n",
    "        return float(value)\n",
    "    \n",
    "df[\"Min Value\"] = df[\"Min Value\"].apply(convert_values)\n",
    "df[\"Max Value\"] = df[\"Max Value\"].apply(convert_values)\n",
    "df[\"Avg Value\"] = (df[\"Min Value\"] + df[\"Max Value\"]) / 2\n",
    "\n",
    "# Converting the height data into cm\n",
    "df[[\"height_feet\", \"height_inch\"]]= pd.DataFrame(df[\"Height\"].str.strip().str.replace('\"', \"\").str.split(\"'\").to_list(), index=df.index).astype(int)\n",
    "df[\"height_cm\"] = (((df[\"height_feet\"] * 12) + (df[\"height_inch\"])) * 2.54).astype(float)\n",
    "\n",
    "\n",
    "# Converting the contract expiry date into years remaining\n",
    "start_date = dt.datetime.strptime('2023-09-01', \"%Y-%m-%d\")\n",
    "df[\"Expires\"] = pd.to_datetime(df[\"Expires\"], dayfirst=True)\n",
    "df[\"Months Remaining\"] = round(((df[\"Expires\"] - start_date).dt.days / 30.4375),0)\n",
    "\n",
    "\n",
    "# Drop any rows will nulls.\n",
    "df = df.dropna()\n",
    "\n",
    "\n",
    "# Outputting the cleansed data to csv for checking\n",
    "df.to_csv(\"output.csv\")"
   ]
  },
  {
   "cell_type": "markdown",
   "metadata": {},
   "source": [
    "### Exploratory Data Analysis"
   ]
  },
  {
   "cell_type": "code",
   "execution_count": null,
   "metadata": {},
   "outputs": [],
   "source": []
  },
  {
   "cell_type": "markdown",
   "metadata": {},
   "source": [
    "### Feature Engineering"
   ]
  },
  {
   "cell_type": "code",
   "execution_count": 40,
   "metadata": {},
   "outputs": [
    {
     "name": "stdout",
     "output_type": "stream",
     "text": [
      "count    2.975000e+03\n",
      "mean     2.934124e+06\n",
      "std      5.109624e+06\n",
      "min      2.000000e+05\n",
      "25%      6.600000e+05\n",
      "50%      1.210000e+06\n",
      "75%      2.912500e+06\n",
      "max      7.300000e+07\n",
      "Name: Avg Value, dtype: float64\n"
     ]
    }
   ],
   "source": [
    "from sklearn.preprocessing import StandardScaler\n",
    "\n",
    "X = df[[\"Age\", \"1v1\", \"Acc\", \"Aer\", \"Agg\", \"Agi\", \"Ant\", \"Bal\", \"Bra\", \"Cmd\", \"Cnt\", \"Cmp\", \"Cro\",\n",
    "               \"Dec\", \"Det\", \"Dri\", \"Fin\", \"Fir\", \"Fla\", \"Han\", \"Hea\", \"Jum\", \"Kic\", \"Ldr\", \"Lon\", \"Mar\",\n",
    "               \"OtB\", \"Pac\", \"Pas\", \"Pos\", \"Ref\", \"Sta\", \"Str\", \"Tck\", \"Tea\", \"Tec\", \"Thr\", \"TRO\", \"Vis\",\n",
    "               \"Wor\", \"Cor\"]]\n",
    "y = df[\"Avg Value\"]\n",
    "\n",
    "print(y.describe())\n",
    "\n",
    "scaler = StandardScaler()\n",
    "\n",
    "X = scaler.fit_transform(X)\n"
   ]
  },
  {
   "cell_type": "markdown",
   "metadata": {},
   "source": [
    "### Model Building"
   ]
  },
  {
   "cell_type": "code",
   "execution_count": 41,
   "metadata": {},
   "outputs": [
    {
     "name": "stdout",
     "output_type": "stream",
     "text": [
      "r2: 0.23662527486208695\n",
      "mse: 20893873132009.074\n"
     ]
    }
   ],
   "source": [
    "from sklearn.model_selection import train_test_split\n",
    "from sklearn.linear_model import LinearRegression\n",
    "from sklearn.metrics import mean_squared_error\n",
    "from sklearn.metrics import r2_score\n",
    "\n",
    "X_train, X_test, y_train, y_test = train_test_split(X, y, test_size=0.2, random_state=42)\n",
    "\n",
    "model = LinearRegression()\n",
    "model.fit(X_train, y_train)\n",
    "\n",
    "y_pred = model.predict(X_train)\n",
    "\n",
    "mse = mean_squared_error(y_train, y_pred)\n",
    "r2 = r2_score(y_train, y_pred)\n",
    "\n",
    "print(f\"r2: {r2}\")\n",
    "print(f\"mse: {mse}\")"
   ]
  }
 ],
 "metadata": {
  "kernelspec": {
   "display_name": ".venv",
   "language": "python",
   "name": "python3"
  },
  "language_info": {
   "codemirror_mode": {
    "name": "ipython",
    "version": 3
   },
   "file_extension": ".py",
   "mimetype": "text/x-python",
   "name": "python",
   "nbconvert_exporter": "python",
   "pygments_lexer": "ipython3",
   "version": "3.12.2"
  }
 },
 "nbformat": 4,
 "nbformat_minor": 2
}
